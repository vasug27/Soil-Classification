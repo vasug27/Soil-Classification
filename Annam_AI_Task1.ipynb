{
  "nbformat": 4,
  "nbformat_minor": 0,
  "metadata": {
    "colab": {
      "provenance": []
    },
    "kernelspec": {
      "name": "python3",
      "display_name": "Python 3"
    },
    "language_info": {
      "name": "python"
    }
  },
  "cells": [
    {
      "cell_type": "markdown",
      "source": [
        "## Importing necessary libraries and loading the dataset"
      ],
      "metadata": {
        "id": "_wgdzVMC-ClG"
      }
    },
    {
      "cell_type": "code",
      "execution_count": null,
      "metadata": {
        "colab": {
          "base_uri": "https://localhost:8080/"
        },
        "id": "1_z4y3Honfji",
        "outputId": "8742a169-fbdc-411b-ee03-439e3446540d"
      },
      "outputs": [
        {
          "output_type": "stream",
          "name": "stdout",
          "text": [
            "Mounted at /content/drive\n"
          ]
        }
      ],
      "source": [
        "import os\n",
        "import pandas as pd\n",
        "import numpy as np\n",
        "from PIL import Image\n",
        "from sklearn.preprocessing import LabelEncoder\n",
        "from sklearn.model_selection import train_test_split\n",
        "from sklearn.metrics import f1_score, classification_report\n",
        "\n",
        "import torch\n",
        "import torch.nn as nn\n",
        "import torch.optim as optim\n",
        "from torch.utils.data import Dataset, DataLoader\n",
        "from torchvision import transforms, models\n",
        "\n",
        "# Mount Google Drive\n",
        "from google.colab import drive\n",
        "drive.mount('/content/drive')"
      ]
    },
    {
      "cell_type": "code",
      "source": [
        "dataset_path = '/content/drive/MyDrive/MATHONGO VASU GOEL/soil_classification-2025'"
      ],
      "metadata": {
        "id": "We4WM4E1ngsB"
      },
      "execution_count": null,
      "outputs": []
    },
    {
      "cell_type": "code",
      "source": [
        "train_df = pd.read_csv(os.path.join(dataset_path, 'train_labels.csv'))\n",
        "train_df['image_path'] = train_df['image_id'].apply(lambda x: os.path.join(dataset_path, 'train', x))\n",
        "\n",
        "# Label encode soil types\n",
        "le = LabelEncoder()\n",
        "train_df['label_encoded'] = le.fit_transform(train_df['label'])\n",
        "num_classes = len(le.classes_)"
      ],
      "metadata": {
        "id": "yYCJegU3oKZn"
      },
      "execution_count": null,
      "outputs": []
    },
    {
      "cell_type": "markdown",
      "source": [
        "## Train-Validation Split"
      ],
      "metadata": {
        "id": "-ZbxcN6V-Xhp"
      }
    },
    {
      "cell_type": "code",
      "source": [
        "train_data, val_data = train_test_split(\n",
        "    train_df,\n",
        "    test_size=0.2,\n",
        "    stratify=train_df['label_encoded'],\n",
        "    random_state=42\n",
        ")"
      ],
      "metadata": {
        "id": "A7zNCYd5o9ET"
      },
      "execution_count": null,
      "outputs": []
    },
    {
      "cell_type": "markdown",
      "source": [
        "## Define Transforms"
      ],
      "metadata": {
        "id": "rFX4C5Ms_G0i"
      }
    },
    {
      "cell_type": "code",
      "source": [
        "transform = transforms.Compose([\n",
        "    transforms.Resize((224, 224)),\n",
        "    transforms.ToTensor(),\n",
        "    transforms.Normalize([0.485, 0.456, 0.406],\n",
        "                         [0.229, 0.224, 0.225])\n",
        "])\n"
      ],
      "metadata": {
        "id": "StweX5yKr5pq"
      },
      "execution_count": 26,
      "outputs": []
    },
    {
      "cell_type": "markdown",
      "source": [
        "## Minimal Dataset Class"
      ],
      "metadata": {
        "id": "xjuikfn8_Kj1"
      }
    },
    {
      "cell_type": "code",
      "source": [
        "class SimpleSoilDataset(Dataset):\n",
        "    def __init__(self, df, transform):\n",
        "        self.df = df.reset_index(drop=True)\n",
        "        self.transform = transform\n",
        "\n",
        "    def __len__(self):\n",
        "        return len(self.df)\n",
        "\n",
        "    def __getitem__(self, idx):\n",
        "        img_path = self.df.loc[idx, 'image_path']\n",
        "        image = Image.open(img_path).convert(\"RGB\")\n",
        "        image = self.transform(image)\n",
        "        label = self.df.loc[idx, 'label_encoded']\n",
        "        return image, label\n"
      ],
      "metadata": {
        "id": "X4Hp2mxBr7Rg"
      },
      "execution_count": 27,
      "outputs": []
    },
    {
      "cell_type": "markdown",
      "source": [
        "## Dataloaders"
      ],
      "metadata": {
        "id": "UqO4_KBt_Ok1"
      }
    },
    {
      "cell_type": "code",
      "source": [
        "train_dataset = SimpleSoilDataset(train_data, transform)\n",
        "val_dataset = SimpleSoilDataset(val_data, transform)\n",
        "\n",
        "train_loader = DataLoader(train_dataset, batch_size=32, shuffle=True)\n",
        "val_loader = DataLoader(val_dataset, batch_size=32, shuffle=False)\n"
      ],
      "metadata": {
        "id": "u39k_wgLr9Fa"
      },
      "execution_count": 28,
      "outputs": []
    },
    {
      "cell_type": "markdown",
      "source": [
        "## Simple CNN (ResNet18)"
      ],
      "metadata": {
        "id": "K80BCjcA_S80"
      }
    },
    {
      "cell_type": "code",
      "source": [
        "device = torch.device('cuda' if torch.cuda.is_available() else 'cpu')\n",
        "\n",
        "model = models.resnet18(pretrained=True)\n",
        "model.fc = nn.Linear(model.fc.in_features, num_classes)\n",
        "model = model.to(device)\n"
      ],
      "metadata": {
        "colab": {
          "base_uri": "https://localhost:8080/"
        },
        "id": "xbxIqxd2r_A9",
        "outputId": "669f89ef-86da-4c4e-8c6e-ae4e0de5cc8a"
      },
      "execution_count": 29,
      "outputs": [
        {
          "output_type": "stream",
          "name": "stderr",
          "text": [
            "/usr/local/lib/python3.11/dist-packages/torchvision/models/_utils.py:208: UserWarning: The parameter 'pretrained' is deprecated since 0.13 and may be removed in the future, please use 'weights' instead.\n",
            "  warnings.warn(\n",
            "/usr/local/lib/python3.11/dist-packages/torchvision/models/_utils.py:223: UserWarning: Arguments other than a weight enum or `None` for 'weights' are deprecated since 0.13 and may be removed in the future. The current behavior is equivalent to passing `weights=ResNet18_Weights.IMAGENET1K_V1`. You can also use `weights=ResNet18_Weights.DEFAULT` to get the most up-to-date weights.\n",
            "  warnings.warn(msg)\n"
          ]
        }
      ]
    },
    {
      "cell_type": "markdown",
      "source": [
        "## Training and Evaluating F1-Scores"
      ],
      "metadata": {
        "id": "gwQnaSkC_WXT"
      }
    },
    {
      "cell_type": "code",
      "source": [
        "criterion = nn.CrossEntropyLoss()\n",
        "optimizer = optim.Adam(model.parameters(), lr=1e-4)\n",
        "\n",
        "for epoch in range(5):\n",
        "    model.train()\n",
        "    for images, labels in train_loader:\n",
        "        images, labels = images.to(device), labels.to(device)\n",
        "        outputs = model(images)\n",
        "        loss = criterion(outputs, labels)\n",
        "        optimizer.zero_grad()\n",
        "        loss.backward()\n",
        "        optimizer.step()\n",
        "\n",
        "    # Evaluate on validation set\n",
        "    model.eval()\n",
        "    val_preds, val_labels = [], []\n",
        "    with torch.no_grad():\n",
        "        for images, labels in val_loader:\n",
        "            images = images.to(device)\n",
        "            outputs = model(images)\n",
        "            preds = torch.argmax(outputs, dim=1).cpu().numpy()\n",
        "            val_preds.extend(preds)\n",
        "            val_labels.extend(labels.numpy())\n",
        "\n",
        "    print(f\"\\nEpoch {epoch+1} Classification Report:\")\n",
        "    print(classification_report(val_labels, val_preds, target_names=le.classes_))\n"
      ],
      "metadata": {
        "colab": {
          "base_uri": "https://localhost:8080/"
        },
        "id": "NI3Pr1vFsAj5",
        "outputId": "d9e9578b-a41c-4d7e-fb1d-1ec3f32aa771"
      },
      "execution_count": 30,
      "outputs": [
        {
          "output_type": "stream",
          "name": "stdout",
          "text": [
            "\n",
            "Epoch 1 Classification Report:\n",
            "               precision    recall  f1-score   support\n",
            "\n",
            "Alluvial soil       0.99      0.93      0.96       106\n",
            "   Black Soil       0.92      0.98      0.95        46\n",
            "    Clay soil       0.93      1.00      0.96        40\n",
            "     Red soil       0.98      0.98      0.98        53\n",
            "\n",
            "     accuracy                           0.96       245\n",
            "    macro avg       0.95      0.97      0.96       245\n",
            " weighted avg       0.96      0.96      0.96       245\n",
            "\n",
            "\n",
            "Epoch 2 Classification Report:\n",
            "               precision    recall  f1-score   support\n",
            "\n",
            "Alluvial soil       0.98      0.96      0.97       106\n",
            "   Black Soil       0.94      1.00      0.97        46\n",
            "    Clay soil       0.95      0.95      0.95        40\n",
            "     Red soil       1.00      0.98      0.99        53\n",
            "\n",
            "     accuracy                           0.97       245\n",
            "    macro avg       0.97      0.97      0.97       245\n",
            " weighted avg       0.97      0.97      0.97       245\n",
            "\n",
            "\n",
            "Epoch 3 Classification Report:\n",
            "               precision    recall  f1-score   support\n",
            "\n",
            "Alluvial soil       0.97      0.96      0.97       106\n",
            "   Black Soil       0.94      0.98      0.96        46\n",
            "    Clay soil       0.95      0.95      0.95        40\n",
            "     Red soil       1.00      0.98      0.99        53\n",
            "\n",
            "     accuracy                           0.97       245\n",
            "    macro avg       0.96      0.97      0.97       245\n",
            " weighted avg       0.97      0.97      0.97       245\n",
            "\n",
            "\n",
            "Epoch 4 Classification Report:\n",
            "               precision    recall  f1-score   support\n",
            "\n",
            "Alluvial soil       1.00      0.96      0.98       106\n",
            "   Black Soil       0.88      1.00      0.94        46\n",
            "    Clay soil       0.95      0.97      0.96        40\n",
            "     Red soil       1.00      0.94      0.97        53\n",
            "\n",
            "     accuracy                           0.97       245\n",
            "    macro avg       0.96      0.97      0.96       245\n",
            " weighted avg       0.97      0.97      0.97       245\n",
            "\n",
            "\n",
            "Epoch 5 Classification Report:\n",
            "               precision    recall  f1-score   support\n",
            "\n",
            "Alluvial soil       0.97      0.96      0.97       106\n",
            "   Black Soil       0.96      1.00      0.98        46\n",
            "    Clay soil       0.95      0.93      0.94        40\n",
            "     Red soil       1.00      1.00      1.00        53\n",
            "\n",
            "     accuracy                           0.97       245\n",
            "    macro avg       0.97      0.97      0.97       245\n",
            " weighted avg       0.97      0.97      0.97       245\n",
            "\n"
          ]
        }
      ]
    },
    {
      "cell_type": "markdown",
      "source": [
        "## Result\n",
        "The final F1 Score (after 5 epochs), is highest for Red Soil, with 1.0"
      ],
      "metadata": {
        "id": "Ex6ZlTG2-Auk"
      }
    }
  ]
}